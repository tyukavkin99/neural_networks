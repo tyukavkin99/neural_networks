{
 "cells": [
  {
   "cell_type": "code",
   "execution_count": 1,
   "id": "7bdbde61",
   "metadata": {},
   "outputs": [],
   "source": [
    "import pandas as pd\n",
    "import numpy as np\n",
    "import matplotlib.pyplot as plt\n",
    "import seaborn as sns\n",
    "import torch\n",
    "import torch.nn as nn\n",
    "from sklearn.svm import SVC\n",
    "from sklearn.preprocessing import MinMaxScaler\n",
    "from sklearn.model_selection import StratifiedKFold, cross_val_score, train_test_split\n",
    "from sklearn.metrics import confusion_matrix, ConfusionMatrixDisplay\n",
    "from sklearn.model_selection import GridSearchCV\n",
    "from torchmetrics.classification import ConfusionMatrix\n",
    "import pickle"
   ]
  },
  {
   "cell_type": "markdown",
   "id": "41c69ea2",
   "metadata": {},
   "source": [
    "# Loading the data"
   ]
  },
  {
   "cell_type": "code",
   "execution_count": 32,
   "id": "2738f4be",
   "metadata": {},
   "outputs": [],
   "source": [
    "X_test = pd.read_csv('data/Xtest.csv')\n",
    "y_test = pd.read_csv('data/ytest.csv')"
   ]
  },
  {
   "cell_type": "code",
   "execution_count": 33,
   "id": "89c76a92",
   "metadata": {},
   "outputs": [],
   "source": [
    "# Dropping the first column to fit the data\n",
    "X_test.drop(columns='Unnamed: 0', inplace=True)\n",
    "y_test.drop(columns='Unnamed: 0', inplace=True)"
   ]
  },
  {
   "cell_type": "markdown",
   "id": "49af835a",
   "metadata": {},
   "source": [
    "# Changing the data"
   ]
  },
  {
   "cell_type": "code",
   "execution_count": 34,
   "id": "dbee6c92",
   "metadata": {},
   "outputs": [],
   "source": [
    "# Making the tensors of the datasets for modelling\n",
    "x_test_tensor=torch.tensor(X_test.values) \n",
    "y_test_tensor=torch.tensor(y_test.values)"
   ]
  },
  {
   "cell_type": "code",
   "execution_count": null,
   "id": "37930b3e",
   "metadata": {},
   "outputs": [],
   "source": []
  },
  {
   "cell_type": "code",
   "execution_count": null,
   "id": "6f05eaf9",
   "metadata": {},
   "outputs": [],
   "source": []
  },
  {
   "cell_type": "code",
   "execution_count": 35,
   "id": "e448de47",
   "metadata": {},
   "outputs": [],
   "source": [
    "# Changing the data type of datasets to fit them into the model\n",
    "x_test_tensor=x_test_tensor.float()\n",
    "y_test_tensor=y_test_tensor.float()"
   ]
  },
  {
   "cell_type": "markdown",
   "id": "e68ee5c1",
   "metadata": {},
   "source": [
    "# Testing the MLP model"
   ]
  },
  {
   "cell_type": "code",
   "execution_count": 36,
   "id": "952c4db4",
   "metadata": {},
   "outputs": [],
   "source": [
    "class MLP_NN(nn.Module):\n",
    "    def __init__(self,hid_layer1, hid_layer2):\n",
    "        super(MLP_NN, self).__init__()\n",
    "        self.fc1 = nn.Linear(18, hid_layer1) # The first hidden layer takes 18 features and takes them into chosen number of neurons of hidden layer\n",
    "        self.fc2 = nn.Linear(hid_layer1, hid_layer2) # The first hidden layer takes 18 features and takes them into chosen number of neurons of hidden layer\n",
    "        self.fc3 = nn.Linear(hid_layer2, 1) #This is the output layer and it takes the input from chosen number of neurons of hidden layer, produces the output of one\n",
    "        self.relu = nn.ReLU() # The activation function on both hidden layers \n",
    "        self.sigmoid = nn.Sigmoid() #The activation function, sigmoid is chosen as we have classification problem, it will produce the probability\n",
    "        \n",
    "    def forward(self, x):\n",
    "        # The sequence of the model\n",
    "        output = self.relu(self.fc1(x))\n",
    "        output = self.relu(self.fc2(output))\n",
    "        output = self.fc3(output)\n",
    "        return output"
   ]
  },
  {
   "cell_type": "code",
   "execution_count": 37,
   "id": "6113cbc6",
   "metadata": {},
   "outputs": [],
   "source": [
    "mlp_model = MLP_NN(10,10)"
   ]
  },
  {
   "cell_type": "code",
   "execution_count": 38,
   "id": "1913c5a3",
   "metadata": {},
   "outputs": [],
   "source": [
    "# Loading the MLP model \n",
    "mlp_model = torch.load('mlp_model.pt')"
   ]
  },
  {
   "cell_type": "code",
   "execution_count": 39,
   "id": "02541166",
   "metadata": {},
   "outputs": [
    {
     "name": "stdout",
     "output_type": "stream",
     "text": [
      "Accuracy: 0.6521739363670349\n"
     ]
    }
   ],
   "source": [
    "criterion = nn.BCEWithLogitsLoss()\n",
    "mlp_model.eval()\n",
    "y_pred = mlp_model(x_test_tensor)\n",
    "after_train = criterion(y_pred, y_test_tensor.reshape(-1,1))\n",
    "y_pred_round = torch.round(y_pred)\n",
    "correct_results = (y_pred_round == y_test_tensor.reshape(-1,1)).sum().float()\n",
    "accuracy = correct_results / y_test_tensor.shape[0]\n",
    "print('Accuracy: {}'.format(accuracy))"
   ]
  },
  {
   "cell_type": "code",
   "execution_count": 40,
   "id": "27a1af52",
   "metadata": {},
   "outputs": [],
   "source": [
    "from torchmetrics.classification import ConfusionMatrix\n",
    "confmat = ConfusionMatrix(task=\"binary\", num_classes=2)\n",
    "cm = confmat(y_pred_round, y_test_tensor.reshape(-1,1))"
   ]
  },
  {
   "cell_type": "code",
   "execution_count": 41,
   "id": "454086a3",
   "metadata": {},
   "outputs": [
    {
     "data": {
      "text/plain": [
       "[]"
      ]
     },
     "execution_count": 41,
     "metadata": {},
     "output_type": "execute_result"
    },
    {
     "data": {
      "image/png": "[encoded data removed]",
      "text/plain": [
       "<Figure size 640x480 with 2 Axes>"
      ]
     },
     "metadata": {},
     "output_type": "display_data"
    }
   ],
   "source": [
    "# Confusion Matrix for final testing of MLP\n",
    "sns.heatmap(cm, annot=True)\n",
    "plt.title('Confusion Matrix')\n",
    "plt.plot()"
   ]
  },
  {
   "cell_type": "markdown",
   "id": "2176e1e4",
   "metadata": {},
   "source": [
    "# Testing the SVM model"
   ]
  },
  {
   "cell_type": "code",
   "execution_count": 42,
   "id": "c4f48c27",
   "metadata": {},
   "outputs": [],
   "source": [
    "# Loading the SVM model\n",
    "with open('svm_pkl', 'rb') as files:\n",
    "    svm = pickle.load(files)"
   ]
  },
  {
   "cell_type": "code",
   "execution_count": 43,
   "id": "fc097933",
   "metadata": {},
   "outputs": [
    {
     "name": "stdout",
     "output_type": "stream",
     "text": [
      "GridSearchCV(cv=5, estimator=SVC(),\n",
      "             param_grid={'degree': (0, 1, 2, 3, 4, 5, 6),\n",
      "                         'gamma': (0, 0.1, 1, 10),\n",
      "                         'kernel': ('linear', 'rbf', 'poly')})\n"
     ]
    }
   ],
   "source": [
    "print(svm)"
   ]
  },
  {
   "cell_type": "code",
   "execution_count": 44,
   "id": "6feb3e08",
   "metadata": {},
   "outputs": [
    {
     "data": {
      "text/plain": [
       "0.9021739130434783"
      ]
     },
     "execution_count": 44,
     "metadata": {},
     "output_type": "execute_result"
    }
   ],
   "source": [
    "# Accuracy of the model\n",
    "svm.score(X_test, y_test)"
   ]
  },
  {
   "cell_type": "code",
   "execution_count": 45,
   "id": "626f9287",
   "metadata": {},
   "outputs": [
    {
     "data": {
      "text/plain": [
       "<sklearn.metrics._plot.confusion_matrix.ConfusionMatrixDisplay at 0x7fd60987f1f0>"
      ]
     },
     "execution_count": 45,
     "metadata": {},
     "output_type": "execute_result"
    },
    {
     "data": {
      "image/png": "[encoded data removed]",
      "text/plain": [
       "<Figure size 640x480 with 2 Axes>"
      ]
     },
     "metadata": {},
     "output_type": "display_data"
    }
   ],
   "source": [
    "# Confusion matrix for final testing of SVM\n",
    "ConfusionMatrixDisplay.from_estimator(svm, X_test, y_test)"
   ]
  }
 ],
 "metadata": {
  "kernelspec": {
   "display_name": "Python 3 (ipykernel)",
   "language": "python",
   "name": "python3"
  },
  "language_info": {
   "codemirror_mode": {
    "name": "ipython",
    "version": 3
   },
   "file_extension": ".py",
   "mimetype": "text/x-python",
   "name": "python",
   "nbconvert_exporter": "python",
   "pygments_lexer": "ipython3",
   "version": "3.9.16"
  }
 },
 "nbformat": 4,
 "nbformat_minor": 5
}
